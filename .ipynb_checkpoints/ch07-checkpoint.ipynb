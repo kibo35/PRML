{
 "cells": [
  {
   "cell_type": "markdown",
   "metadata": {},
   "source": [
    "第7章　疎な解を持つカーネルマシン\n",
    "==\n",
    "サポートベクトルマシン（SVM; support vector machine）は実装の詳細が記述されていないので，関連ベクトルマシン（RVM; relational vector machine）を実装"
   ]
  },
  {
   "cell_type": "markdown",
   "metadata": {},
   "source": [
    "RVMのモデル\n",
    "--\n",
    "* 線形モデルのパラメータの事前分布を疎な解が得られるように修正\n",
    "\n",
    "与えられた入力ベクトル$\\mathbf{x}$に対する実数値の目標変数$t$の条件付き確率分布\n",
    "\n",
    "$$ \n",
    "p(t|\\mathbf{x}, \\mathbf{w}, \\beta) = \\mathcal{N}(t|y(\\mathbf{x}), \\beta^{-1})\n",
    "$$\n",
    "\n",
    "ここで$\\beta=\\sigma^{-2}$はノイズの精度パラメータ（ノイズの分散の逆数），平均値は次の線形モデルで定義される．\n",
    "\n",
    "$$ \n",
    "y(\\mathbf{x})=\\sum_{i=1}^{M}w_{i}\\phi_{i}(\\mathbf{x})=\\mathbf{w}^{T}\\mathbf{\\phi}(\\mathbf{x}) \n",
    "$$\n",
    "\n",
    "基底関数として個々の訓練データを一方の引数としたカーネル関数を用いる．\n",
    "\n",
    "$$ \n",
    "y(\\mathbf{x})=\\sum_{n=1}^{N}w_{n}k(\\mathbf{x}, \\mathbf{x}_{n})+b \n",
    "$$\n",
    "\n",
    "パラメータの数は全部で$M=N+1$である．尤度関数は次式で与えられる．\n",
    "\n",
    "$$ \n",
    "p(\\mathbf{t}| \\mathbf{X}, \\mathbf{w}, \\beta) = \\prod_{n=1}^{N} p(t_{n}|\\mathbf{x}_{n}, \\mathbf{w}, \\beta) \n",
    "$$\n",
    "\n",
    "パラメータベクトル$\\mathbf{w}$の事前分布として，平均0のガウス事前分布を用いる．__RVMにおいては個々の重みパラメータ$w_{i}$ごとに異なった超パラメータ$\\alpha_{i}$を用いる．__つまり，重みに対する事前分布は次のようになる．\n",
    "\n",
    "$$ \n",
    "p(\\mathbf{w}|\\mathbf{\\alpha}) = \\prod_{i=1}^{M} \\mathcal{N} (w_{i}|0, \\alpha_{i}^{-1}) \n",
    "$$\n",
    "\n",
    "ここで，$\\alpha_{i}$は対応する重みパラメータ$w_{i}$の精度を表し，$\\mathbf{\\alpha} = (\\alpha_{1}, \\dots ,\\alpha_{M})^{T}$である．これらの超パラメータについてエビデンスを最大化すると，大部分の超パラメータは無限大になり，対応する重みパラメータの事後分布を零一点に集中する．すると，これらのパラメータに対応する基底関数（対応するデータ点との距離を表すカーネル関数）は予測において何の役割も果たさないため，取り除くことができ，疎なモデルが得られる．\n",
    "\n",
    "重みベクトルに対する事後確率は再びガウス分布となり，次の形で表される．\n",
    "\n",
    "$$ \n",
    "p(\\mathbf{w}|\\mathbf{t}, \\mathbf{X}, \\mathbf{\\alpha}, \\beta) = \\mathcal{N}(\\mathbf{w}|\\mathbf{m}, \\mathbf{\\Sigma}) \n",
    "$$\n",
    "\n",
    "ここで平均，および共分散は次の式で与えられる．\n",
    "\n",
    "$$ \n",
    "\\mathbf{m} = \\beta \\mathbf{\\Sigma} \\mathbf{\\Phi}^{T} \\mathbf{t} \n",
    "$$\n",
    "\n",
    "$$ \n",
    "\\mathbf{\\Sigma} = \\left( \\mathbf{A} + \\beta \\mathbf{\\Phi}^{T} \\mathbf{\\Phi} \\right)^{-1} \n",
    "$$\n",
    "\n",
    "ただし，$\\mathbf{\\Phi}$は，$i=1, \\dots ,N$について要素$\\Phi_{ni}=\\phi_{i}(\\mathbf{x}_{n})$を，そして$n=1, \\dots ,N$について要素$\\Phi_{nM}=1$を持つ$N \\times M$の計画行列であり，$\\mathbf{A}=\\rm{diag}(\\alpha_{i})$である．\n",
    "\n",
    "$\\mathbf{\\alpha}$と$\\beta$の値は__エビデンス近似（evidence approximation）__としても知られている第二種の最尤推定によって求められる．第二種の最尤推定を行うためには，まず重みパラメータについて積分を行う．\n",
    "\n",
    "$$ \n",
    "p(\\mathbf{t}|\\mathbf{X}, \\mathbf{\\alpha}, \\beta) = \\int p(\\mathbf{t}|\\mathbf{X}, \\mathbf{w}, \\beta)p(\\mathbf{w}|\\mathbf{\\alpha}) d\\mathbf{w} \n",
    "$$\n",
    "\n",
    "この式は2つのガウス分布のたたみ込み積分となっているため，解析的に積分を実行することができ，以下のように対数尤度が求まる．\n",
    "\n",
    "$$ \n",
    "\\begin{split} \n",
    "\\ln p(\\mathbf{t}|\\mathbf{X}, \\mathbf{\\alpha}, \\beta) \n",
    "&= \\ln \\mathcal{N} (\\mathbf{t}|\\mathbf{0}, \\mathbf{C}) \\\\ \n",
    "&= -\\frac{1}{2}\\left\\{ N \\ln (2 \\pi) + \\ln |\\mathbf{C}| + \\mathbf{t}^{T}\\mathbf{C}^{-1}\\mathbf{t}\\right\\}\n",
    "\\end{split}\n",
    "$$\n",
    "\n",
    "ここで$\\mathbf{t} = (t_{1}, \\dots ,t_{N})^{T}$である．また$N \\times N$行列$\\mathbf{C}$を次のように定義した．\n",
    "\n",
    "$$ \n",
    "\\mathbf{C} = \\beta^{-1}\\mathbf{I} + \\mathbf{\\Phi} \\mathbf{A}^{-1} \\mathbf{\\Phi}^{T} \n",
    "$$\n",
    "\n",
    "得られた対数尤度の異聞を0とおくことで，次のように超パラメータの更新式を得る．\n",
    "\n",
    "$$ \n",
    "\\begin{split}\n",
    "\\alpha_{i}^{new} &= \\frac{\\gamma_{i}}{m_{i}^{2}} \\\\\n",
    "(\\beta^{new})^{-1} &= \\frac{\\|\\mathbf{t} - \\mathbf{\\Phi m}\\|^{2}}{N - \\Sigma_{i}\\gamma_{i}} \n",
    "\\end{split}\n",
    "$$\n",
    "\n",
    "ここで，$\\gamma_{i}$は対応する重みパラメータ$w_{i}$が，データにどれだけよく特定されたかを表す量で，次の式で定義される．\n",
    "\n",
    "$$ \n",
    "\\gamma_{i} = 1 - \\alpha_{i} \\Sigma_{ii}\n",
    "$$\n",
    "\n",
    "超パラメータの学習は，以上の結果を用いて，次のように進める．まず，適当に選んだ$\\mathbf{\\alpha}$と$\\beta$の初期値から事後確率の平均$\\mathbf{m}$と共分散$\\mathbf{\\Sigma}$を推定する．次に得られた値から超パラメータを推定する．この過程を適当な収束条件が満たされるまで交互に繰り返す．"
   ]
  },
  {
   "cell_type": "code",
   "execution_count": 2,
   "metadata": {
    "collapsed": true
   },
   "outputs": [],
   "source": [
    "from matplotlib.font_manager import FontProperties\n",
    "\n",
    "# matplotlibで日本語フォント\n",
    "fp = FontProperties(fname=r'/System/Library/Fonts/ヒラギノ角ゴ ProN W3')"
   ]
  },
  {
   "cell_type": "code",
   "execution_count": 3,
   "metadata": {
    "collapsed": false
   },
   "outputs": [
    {
     "data": {
      "image/png": "[encoded data removed]",
      "text/plain": [
       "<matplotlib.figure.Figure at 0x108ac6090>"
      ]
     },
     "metadata": {},
     "output_type": "display_data"
    }
   ],
   "source": [
    "# 正弦波の人工データ\n",
    "X_train = np.linspace(0, 1, num=10)\n",
    "y_train = np.sin(X_train * 2 * np.pi) + np.random.randn(len(X_train)) * 0.3\n",
    "X_test = np.linspace(0, 1, num=100)\n",
    "y_test = np.sin(X_test * 2 * np.pi)\n",
    "\n",
    "plt.plot(X_test, y_test)\n",
    "plt.plot(X_train, y_train, '.')\n",
    "plt.xlim(-0.05, 1.05)\n",
    "plt.ylim(-1.5, 1.5)\n",
    "plt.savefig('synthetic_data_sin.png', dpi=220)"
   ]
  },
  {
   "cell_type": "code",
   "execution_count": 4,
   "metadata": {
    "collapsed": true
   },
   "outputs": [],
   "source": [
    "class RVM(object):\n",
    "    \"\"\" 関係ベクトルマシン \"\"\"\n",
    "    def __init__(self, X, y, sig=0.2):\n",
    "        # ノイズの精度パラメータ\n",
    "        self.beta = None \n",
    "        # 重みの事前情報の精度ベクトル（M次元）\n",
    "        self.alpha = None\n",
    "        # 重みの事後分布の平均\n",
    "        self.m = None \n",
    "        # 重みの事後分布の共分散\n",
    "        self.s = None \n",
    "        # 0除算しないためのしきい値\n",
    "        self.eps = 1e-8\n",
    "        # ガウスカーネルの標準偏差\n",
    "        self.sig = sig \n",
    "        # 訓練データの入力\n",
    "        self.X = X \n",
    "        # 訓練データの出力\n",
    "        self.y = y \n",
    "        # データ数\n",
    "        self.N = len(y)\n",
    "        # 基底関数の数\n",
    "        self.M = self.N + 1\n",
    "        # デザイン行列\n",
    "        self.phi = self.design_matrix()\n",
    "        # 尤度の共分散\n",
    "        self.C = None\n",
    "        \n",
    "    def kernel(self, x):\n",
    "        \"\"\" ガウスカーネル（定数項を含む） \"\"\"\n",
    "        phi = np.zeros(self.M)\n",
    "        phi[:self.N] = np.exp(-0.5 * ((x - self.X) / self.sig) ** 2)\n",
    "        phi[self.N] = 1.\n",
    "        return phi\n",
    "    \n",
    "    def design_matrix(self):\n",
    "        \"\"\" デザイン行列を作成 \"\"\"\n",
    "        phi = np.zeros((self.N, self.M))\n",
    "        for row, x in enumerate(self.X):\n",
    "            phi[row, :self.N] = np.exp(-0.5 * ((x - self.X) / self.sig) ** 2)\n",
    "            phi[row, self.N] = 1.\n",
    "        return phi\n",
    "\n",
    "    def fit(self, niter=100):\n",
    "        \"\"\" α，βを最適化 \"\"\"               \n",
    "        self.alpha = np.ones(self.M)\n",
    "        self.beta = 0.1\n",
    "        for _ in xrange(niter):\n",
    "            self.s = np.linalg.inv(np.diag(self.alpha) + self.beta * np.dot(self.phi.T, self.phi))\n",
    "            self.m = self.beta * np.dot(self.s, np.dot(self.phi.T, self.y))\n",
    "            rsum = 0\n",
    "            for i in xrange(self.M):\n",
    "                r = 1 - self.alpha[i] * self.s[i, i]\n",
    "                m2 = self.m[i] ** 2\n",
    "                if m2 > self.eps:\n",
    "                    self.alpha[i] = r / m2\n",
    "                rsum += r\n",
    "            err = self.y - np.dot(self.phi, self.m)\n",
    "            err2 = np.dot(err.T, err).flatten()\n",
    "            if err2 > self.eps:\n",
    "                self.beta = (self.N - rsum) / err2\n",
    "    \n",
    "    def pred(self, x):\n",
    "        \"\"\" 予測の平均と分散 \"\"\"        \n",
    "        def fun(x):\n",
    "            phi_x = self.kernel(x)\n",
    "            m_x = np.dot(self.m.T, phi_x)\n",
    "            var = 1. / self.beta + np.dot(phi_x.T, np.dot(self.s, phi_x)) \n",
    "            return m_x, var[0]\n",
    "  \n",
    "        isiterable = lambda obj: isinstance(obj, basestring) or getattr(obj, '__iter__', False)\n",
    "        if isiterable(x):\n",
    "            res = map(fun, x)\n",
    "            return np.array(res)\n",
    "        else:\n",
    "            return fun(x)"
   ]
  },
  {
   "cell_type": "code",
   "execution_count": 7,
   "metadata": {
    "collapsed": false
   },
   "outputs": [
    {
     "data": {
      "text/plain": [
       "<matplotlib.text.Text at 0x10b180590>"
      ]
     },
     "execution_count": 7,
     "metadata": {},
     "output_type": "execute_result"
    },
    {
     "data": {
      "image/png": "[encoded data removed]",
      "text/plain": [
       "<matplotlib.figure.Figure at 0x108b22310>"
      ]
     },
     "metadata": {},
     "output_type": "display_data"
    }
   ],
   "source": [
    "rvm = RVM(X_train, y_train, sig=0.2)\n",
    "rvm.fit()\n",
    "\n",
    "fig, ax = plt.subplots(2, 1, figsize=(5, 10))\n",
    "ax = ax.flatten()\n",
    "ax[0].imshow(rvm.phi, interpolation='Nearest')\n",
    "ax[0].set_title(u'デザイン行列')\n",
    "\n",
    "ax[1].bar(np.arange(rvm.M) - 0.5, 1. / rvm.alpha, 1.)\n",
    "ax[1].set_xticks(np.arange(rvm.M))\n",
    "ax[1].set_xlim(-0.5, 9.5)\n",
    "ax[1].set_title(u'関連ベクトル')\n",
    "ax[1].set_ylabel(r'$\\alpha^{-1}$')\n",
    "ax[1].set_xlabel('n')\n",
    "\n",
    "plt.savefig('design_matrix_relevance_vector.png', dpo)"
   ]
  },
  {
   "cell_type": "code",
   "execution_count": 6,
   "metadata": {
    "collapsed": false
   },
   "outputs": [
    {
     "data": {
      "text/plain": [
       "<matplotlib.legend.Legend at 0x108ad7ad0>"
      ]
     },
     "execution_count": 6,
     "metadata": {},
     "output_type": "execute_result"
    },
    {
     "data": {
      "image/png": "[encoded data removed]",
      "text/plain": [
       "<matplotlib.figure.Figure at 0x108b3c310>"
      ]
     },
     "metadata": {},
     "output_type": "display_data"
    }
   ],
   "source": [
    "res = rvm.pred(X_test)\n",
    "y_pred = res[:, 0]\n",
    "y_sig = res[:, 1]\n",
    "\n",
    "rv = np.where(rvm.alpha < 1.)[0]\n",
    "plt.plot(X_train, y_train, '.', label=u'訓練データ')\n",
    "plt.scatter(X_train[rv], y_train[rv], s=80, facecolors='none', edgecolors='red', label=u'関連ベクトル')\n",
    "plt.plot(X_test, y_test, label=u'正弦波')\n",
    "plt.plot(X_test, y_pred, label=u'予測の平均')\n",
    "plt.fill_between(X_test, y_pred + y_sig, y_pred - y_sig, facecolor='red', alpha=0.3, label=u'±1標準偏差')\n",
    "plt.xlim(-0.05, 1.05)\n",
    "plt.ylim(-1.5, 1.5)\n",
    "plt.ylabel('y')\n",
    "plt.xlabel('x')\n",
    "plt.legend(loc='best')"
   ]
  },
  {
   "cell_type": "code",
   "execution_count": null,
   "metadata": {
    "collapsed": true
   },
   "outputs": [],
   "source": []
  }
 ],
 "metadata": {
  "kernelspec": {
   "display_name": "Python 2",
   "language": "python",
   "name": "python2"
  },
  "language_info": {
   "codemirror_mode": {
    "name": "ipython",
    "version": 2
   },
   "file_extension": ".py",
   "mimetype": "text/x-python",
   "name": "python",
   "nbconvert_exporter": "python",
   "pygments_lexer": "ipython2",
   "version": "2.7.5"
  }
 },
 "nbformat": 4,
 "nbformat_minor": 0
}
