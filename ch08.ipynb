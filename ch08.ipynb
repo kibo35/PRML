{
 "cells": [
  {
   "cell_type": "markdown",
   "metadata": {},
   "source": [
    "第8章 グラフィカルモデル\n",
    "=="
   ]
  },
  {
   "cell_type": "code",
   "execution_count": 133,
   "metadata": {
    "collapsed": true
   },
   "outputs": [],
   "source": [
    "from matplotlib.font_manager import FontProperties\n",
    "\n",
    "# matplotlibで日本語フォント\n",
    "fp = FontProperties(fname=r'/System/Library/Fonts/ヒラギノ角ゴ ProN W3')"
   ]
  },
  {
   "cell_type": "markdown",
   "metadata": {},
   "source": [
    "画像のノイズ除去で利用されるマルコフ確率場を表現する無向グラフ\n",
    "--"
   ]
  },
  {
   "cell_type": "code",
   "execution_count": null,
   "metadata": {
    "collapsed": false
   },
   "outputs": [
    {
     "data": {
      "image/png": "[encoded data removed]",
      "text/plain": [
       "<matplotlib.figure.Figure at 0x12967f780>"
      ]
     },
     "metadata": {},
     "output_type": "display_data"
    }
   ],
   "source": [
    "from daft import PGM, Node\n",
    "\n",
    "pgm = PGM([7, 5], origin=(-3.5, -1.5), directed=False)\n",
    "\n",
    "for row in range(-1, 2):\n",
    "    y = float(row) * 1. / (2 ** 0.5)\n",
    "    for col in range(-1, 2):\n",
    "        x = col + y\n",
    "        if row == -1 and col == -1:\n",
    "            label = r'$x_{i}$', r'$y_{i}$'\n",
    "        else:\n",
    "            label = '', ''\n",
    "        pgm.add_node(Node('x_{}_{}'.format(row, col), label[0], x, y, offset=(10, -20)))\n",
    "        pgm.add_node(Node('y_{}_{}'.format(row, col), label[1], x, y + 2, observed=True, \n",
    "                          offset=(-10, 20)))\n",
    "\n",
    "for row in range(-1, 2):\n",
    "    for col in range(-1, 2):\n",
    "        if row + 1 < 2:\n",
    "            pgm.add_edge('x_{}_{}'.format(row, col), 'x_{}_{}'.format(row + 1, col))\n",
    "        if col + 1 < 2:\n",
    "            pgm.add_edge('x_{}_{}'.format(row, col), 'x_{}_{}'.format(row, col + 1))\n",
    "        pgm.add_edge('x_{}_{}'.format(row, col), 'y_{}_{}'.format(row, col))\n",
    "\n",
    "pgm.render()\n",
    "plt.suptitle(u'画像のノイズ除去で利用されるマルコフ確率場を表現する無向グラフ')\n",
    "plt.savefig('PGM.png', dpi=220)"
   ]
  },
  {
   "cell_type": "markdown",
   "metadata": {},
   "source": [
    "例：画像のノイズ除去\n",
    "--"
   ]
  },
  {
   "cell_type": "code",
   "execution_count": null,
   "metadata": {
    "collapsed": false
   },
   "outputs": [
    {
     "name": "stdout",
     "output_type": "stream",
     "text": [
      "0 -87300.0\n",
      "1 -105294.0\n",
      "2 -105636.0\n",
      "3"
     ]
    }
   ],
   "source": [
    "import matplotlib.pyplot as plt\n",
    "from skimage.data import checkerboard\n",
    "%matplotlib inline\n",
    "\n",
    "x = np.where(checkerboard() >= 128, 1, -1)\n",
    "y = np.where(np.random.rand(x.shape[0], x.shape[1]) >= 0.1, x, x * -1)\n",
    "\n",
    "def energy(x, y, beta=1., eta=1., h=0.):\n",
    "    \"\"\" エネルギー関数 \"\"\"\n",
    "    e = np.sum(x) * h \n",
    "    e -= beta * np.sum(x * np.roll(x, 1, axis=0) + x * np.roll(x, 1, axis=1))\n",
    "    e -= eta * np.sum(x * y)\n",
    "    return e\n",
    "\n",
    "def ICM(y, niter=10):\n",
    "    \"\"\" 反復条件付きモード（ICM; iterated conditional modes）\"\"\"\n",
    "    recon = y.copy()\n",
    "    for i in range(niter):\n",
    "        e = energy(recon, y)\n",
    "        e_old = e\n",
    "        print(i, e)\n",
    "        for row in range(recon.shape[0]):\n",
    "            for col in range(recon.shape[1]):\n",
    "                recon[row, col] *= -1\n",
    "                e2 = energy(recon, y)\n",
    "                if e < e2:\n",
    "                    recon[row, col] *= -1\n",
    "                else:\n",
    "                    e = e2\n",
    "        if e == e_old:\n",
    "            break\n",
    "    return recon\n",
    "        \n",
    "recon = ICM(y)\n",
    "\n",
    "fig, ax = plt.subplots(1, 3, figsize=(10, 5))\n",
    "ax[0].imshow(x, cmap='gray')\n",
    "ax[1].imshow(y, cmap='gray')\n",
    "ax[2].imshow(recon, cmap='gray')\n",
    "ax[0].set_title(u'真の解')\n",
    "ax[1].set_title(u'10%のピクセルを反転')\n",
    "ax[2].set_title(u'復元（ICM）')\n",
    "\n",
    "ax[0].set_xticks([])\n",
    "ax[0].set_yticks([])\n",
    "ax[1].set_xticks([])\n",
    "ax[1].set_yticks([])\n",
    "ax[2].set_xticks([])\n",
    "ax[2].set_yticks([])\n",
    "\n",
    "plt.suptitle(r'$h=0, \\beta=1, \\eta=1$')\n",
    "plt.tight_layout()\n",
    "plt.savefig('MRF-ICM.png', dpi=220)"
   ]
  },
  {
   "cell_type": "code",
   "execution_count": null,
   "metadata": {
    "collapsed": true
   },
   "outputs": [],
   "source": []
  }
 ],
 "metadata": {
  "kernelspec": {
   "display_name": "Python 3",
   "language": "python",
   "name": "python3"
  },
  "language_info": {
   "codemirror_mode": {
    "name": "ipython",
    "version": 3
   },
   "file_extension": ".py",
   "mimetype": "text/x-python",
   "name": "python",
   "nbconvert_exporter": "python",
   "pygments_lexer": "ipython3",
   "version": "3.5.1"
  }
 },
 "nbformat": 4,
 "nbformat_minor": 0
}
